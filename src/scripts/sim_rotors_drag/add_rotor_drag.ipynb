{
 "cells": [
  {
   "cell_type": "code",
   "execution_count": 116,
   "metadata": {},
   "outputs": [],
   "source": [
    "#%reset -f\n",
    "\n",
    "import csv\n",
    "import os\n",
    "\n",
    "import numpy as np\n",
    "import matplotlib.pyplot as plt\n",
    "from pyquaternion import Quaternion\n",
    "%matplotlib tk\n",
    "\n",
    "# load stuff\n",
    "traj_name = 'lemniscate' # 'circle'\n",
    "\n",
    "ref_csv_fn = 'data/ref_' + traj_name + '.csv'\n",
    "\n",
    "ref_traj_fn = 'data/imu_simulator/ref/' + traj_name + '/trajectory.txt'\n",
    "ref_vel_fn = 'data/imu_simulator/ref/' + traj_name + '/velocity.txt'\n",
    "ref_imu_fn = 'data/imu_simulator/ref/' + traj_name + '/simulated_imu_meas.txt'\n",
    "\n",
    "sim_traj_fn = 'data/imu_simulator/sim/' + traj_name + '/trajectory.txt'\n",
    "sim_vel_fn = 'data/imu_simulator/sim/' + traj_name + '/velocity.txt'\n",
    "sim_imu_fn = 'data/imu_simulator/sim/' + traj_name + '/simulated_imu_meas.txt'\n",
    "\n",
    "with open(ref_csv_fn, 'r') as csvfile:\n",
    "    ref_csv_reader = csv.reader(csvfile, delimiter=',', quotechar='|')\n",
    "    ref_csv_array = np.array(list(ref_csv_reader))[1:]\n",
    "    csv_ref = ref_csv_array.astype(float)\n",
    "    \n",
    "csv_traj = csv_ref[:, 0:8]\n",
    "csv_vel = csv_ref[:, 8:11]\n",
    "csv_gyro = csv_ref[:, 11:14]\n",
    "    \n",
    "ref_traj = np.loadtxt(ref_traj_fn)\n",
    "ref_vel = np.loadtxt(ref_vel_fn)\n",
    "ref_imu = np.loadtxt(ref_imu_fn)\n",
    "\n",
    "sim_traj = np.loadtxt(sim_traj_fn)\n",
    "sim_vel = np.loadtxt(sim_vel_fn)\n",
    "sim_imu = np.loadtxt(sim_imu_fn)"
   ]
  },
  {
   "cell_type": "code",
   "execution_count": 117,
   "metadata": {},
   "outputs": [],
   "source": [
    "# Make times start from 0.0\n",
    "csv_ts = csv_traj[:,0] - csv_traj[0,0]\n",
    "t_offset = 0.0 #-0.5\n",
    "csv_ts -= t_offset\n",
    "\n",
    "ref_ts = ref_traj[:,0] - ref_traj[0,0]\n",
    "\n",
    "sim_ts = sim_traj[:,0] - sim_traj[0,0]\n",
    "t_offset = 1.25\n",
    "sim_ts -= t_offset\n",
    "sim_imu[:,0] -= sim_imu[0,0]\n",
    "sim_imu[:,0] -= t_offset"
   ]
  },
  {
   "cell_type": "code",
   "execution_count": 118,
   "metadata": {},
   "outputs": [
    {
     "data": {
      "text/plain": [
       "<matplotlib.legend.Legend at 0x7fa95c57c580>"
      ]
     },
     "execution_count": 118,
     "metadata": {},
     "output_type": "execute_result"
    }
   ],
   "source": [
    "# Plot positions\n",
    "plt.figure('XY traj')\n",
    "plt.plot(ref_traj[:,1], ref_traj[:,2], label='reference')\n",
    "plt.plot(sim_traj[:,1], sim_traj[:,2], label='sim')\n",
    "plt.plot(csv_traj[:,1], csv_traj[:,2], 'r', label='csv', alpha=0.5)\n",
    "plt.xlabel('x')\n",
    "plt.ylabel('y')\n",
    "plt.legend()\n",
    "\n",
    "plt.figure('XZ traj')\n",
    "plt.plot(ref_traj[:,1], ref_traj[:,3], label='reference')\n",
    "plt.plot(sim_traj[:,1], sim_traj[:,3], label='sim')\n",
    "plt.plot(csv_traj[:,1], csv_traj[:,3], 'r', label='csv', alpha=0.5)\n",
    "plt.xlabel('x')\n",
    "plt.ylabel('z')\n",
    "plt.legend()\n",
    "\n",
    "plt.figure('YZ traj')\n",
    "plt.plot(ref_traj[:,2], ref_traj[:,3], label='reference')\n",
    "plt.plot(sim_traj[:,2], sim_traj[:,3], label='sim')\n",
    "plt.plot(csv_traj[:,2], csv_traj[:,3], 'r', label='csv', alpha=0.5)\n",
    "plt.xlabel('y')\n",
    "plt.ylabel('z')\n",
    "plt.legend()"
   ]
  },
  {
   "cell_type": "code",
   "execution_count": 119,
   "metadata": {},
   "outputs": [
    {
     "data": {
      "text/plain": [
       "<matplotlib.legend.Legend at 0x7fa95c4b1c40>"
      ]
     },
     "execution_count": 119,
     "metadata": {},
     "output_type": "execute_result"
    }
   ],
   "source": [
    "# Plot pos - time\n",
    "plt.figure('X time')\n",
    "plt.plot(ref_ts, ref_traj[:,1], label='reference')\n",
    "plt.plot(sim_ts, sim_traj[:,1], label='sim')\n",
    "plt.plot(csv_ts, csv_traj[:,1], 'r', label='csv', alpha=0.5)\n",
    "plt.xlabel('t')\n",
    "plt.ylabel('x')\n",
    "plt.legend()\n",
    "\n",
    "plt.figure('Y time')\n",
    "plt.plot(ref_ts, ref_traj[:,2], label='reference')\n",
    "plt.plot(sim_ts, sim_traj[:,2], label='sim')\n",
    "plt.plot(csv_ts, csv_traj[:,2], 'r', label='csv', alpha=0.5)\n",
    "plt.xlabel('t')\n",
    "plt.ylabel('y')\n",
    "plt.legend()\n",
    "\n",
    "plt.figure('Z time')\n",
    "plt.plot(ref_ts, ref_traj[:,3], label='reference')\n",
    "plt.plot(sim_ts, sim_traj[:,3], label='sim')\n",
    "plt.plot(csv_ts, csv_traj[:,3], 'r', label='csv', alpha=0.5)\n",
    "plt.xlabel('t')\n",
    "plt.ylabel('z')\n",
    "plt.legend()"
   ]
  },
  {
   "cell_type": "code",
   "execution_count": 120,
   "metadata": {},
   "outputs": [],
   "source": [
    "# Plot velocity\n",
    "plt.figure('X vel')\n",
    "plt.plot(ref_ts, ref_vel[:,1], label='reference')\n",
    "plt.plot(sim_ts, sim_vel[:,1], label='sim', alpha=0.7)\n",
    "#plt.plot(csv_ts, csv_vel[:,1], 'r', label='csv', alpha=0.5)\n",
    "plt.title('x vel')\n",
    "plt.xlabel('t')\n",
    "plt.ylabel('x')\n",
    "plt.legend()\n",
    "\n",
    "plt.figure('y vel')\n",
    "plt.plot(ref_ts, ref_vel[:,2], label='reference')\n",
    "plt.plot(sim_ts, sim_vel[:,2], label='sim', alpha=0.7)\n",
    "#plt.plot(csv_ts, csv_vel[:,2], 'r', label='csv', alpha=0.5)\n",
    "plt.title('y vel')\n",
    "plt.xlabel('t')\n",
    "plt.ylabel('y')\n",
    "plt.legend()\n",
    "\n",
    "plt.figure('z vel')\n",
    "plt.plot(ref_ts, ref_vel[:,3], label='reference')\n",
    "plt.plot(sim_ts, sim_vel[:,3], label='sim', alpha=0.7)\n",
    "#plt.plot(csv_ts, csv_vel[:,3], 'r', label='csv', alpha=0.5)\n",
    "plt.title('z vel')\n",
    "plt.xlabel('t')\n",
    "plt.ylabel('z')\n",
    "\n",
    "plt.legend()\n",
    "\n",
    "plt.show()"
   ]
  },
  {
   "cell_type": "code",
   "execution_count": 121,
   "metadata": {},
   "outputs": [],
   "source": [
    "# Add rotor drag as in rotorS\n",
    "# Eq. 2 in Furrer F., RotorS – A Modular Gazebo MAV Simulator\n",
    "mass = 0.875\n",
    "Ct = 1.56252e-06\n",
    "Cd = 8.06428e-05\n",
    "e_z = np.array([0., 0., 1.])\n",
    "W_g = np.array([0.0, 0.0, 9.81])\n",
    "\n",
    "n_samples = csv_traj.shape[0]\n",
    "Fd = [] # Fdi = [Fd_rot1 (dim = (3,)) , Fd_rot2, Fd_rot3, Fd_rot4]\n",
    "for i, t in enumerate(csv_ref):\n",
    "    vA_i = np.array([t[8], t[9], t[10]])\n",
    "    u_i = np.array([t[20], t[21], t[22], t[23]])\n",
    "    \n",
    "    # get rotor speeds\n",
    "    w_i = np.sqrt(u_i * (1.0/Ct))\n",
    "    \n",
    "    W_acc_i = np.array([t[14], t[15], t[16]]) + g_w\n",
    "    cthrust = W_acc_i\n",
    "    e_zB = cthrust * (1/np.linalg.norm(cthrust))\n",
    "    \n",
    "    vA_I_perp = vA_i - (vA_i.dot(e_zB)) * e_zB\n",
    "    \n",
    "    Fd_i = np.zeros((3,4))\n",
    "    for j in range(4):\n",
    "        Fd_i[:,j] = -1.0 * w_i[j] * Cd * vA_I_perp\n",
    "        \n",
    "    Fd.append(Fd_i)\n",
    "\n",
    "# add drag to accels of spline fitted on the ref. traj.\n",
    "acc_rotorS = ref_imu[:, [0,4,5,6]]\n",
    "acc_rotorS2 = []\n",
    "\n",
    "n_samples = np.minimum(n_samples, acc_rotorS.shape[0])\n",
    "for i in range(n_samples):\n",
    "    acc_rotorS[i, 1:] += np.sum(Fd[i], axis=1) * (1/mass)"
   ]
  },
  {
   "cell_type": "code",
   "execution_count": 122,
   "metadata": {},
   "outputs": [
    {
     "data": {
      "text/plain": [
       "<matplotlib.legend.Legend at 0x7fa95bfd4550>"
      ]
     },
     "execution_count": 122,
     "metadata": {},
     "output_type": "execute_result"
    }
   ],
   "source": [
    "plt.figure('Acc')\n",
    "plt.subplot(311)\n",
    "plt.plot(ref_imu[:,0], ref_imu[:,4], label='reference')\n",
    "plt.plot(sim_imu[:,0], sim_imu[:,4], label='sim')\n",
    "plt.plot(acc_rotorS[:,0], acc_rotorS[:,1], label ='reference + rotorS drag')\n",
    "plt.title('x acc')\n",
    "plt.xlabel('t')\n",
    "plt.ylabel('x')\n",
    "plt.legend()\n",
    "\n",
    "plt.subplot(312)\n",
    "plt.plot(ref_imu[:,0], ref_imu[:,5], label='reference')\n",
    "plt.plot(sim_imu[:,0], sim_imu[:,5], label='sim')\n",
    "plt.plot(acc_rotorS[:,0], acc_rotorS[:,2], label ='reference + rotorS drag')\n",
    "plt.title('y acc')\n",
    "plt.xlabel('t')\n",
    "plt.ylabel('y')\n",
    "plt.legend()\n",
    "\n",
    "plt.subplot(313)\n",
    "plt.plot(ref_imu[:,0], ref_imu[:,6], label='reference')\n",
    "plt.plot(sim_imu[:,0], sim_imu[:,6], label='sim')\n",
    "plt.plot(acc_rotorS[:,0], acc_rotorS[:,3], label ='reference + rotorS drag')\n",
    "plt.title('z acc')\n",
    "plt.xlabel('t')\n",
    "plt.ylabel('z')\n",
    "plt.legend()"
   ]
  },
  {
   "cell_type": "code",
   "execution_count": 123,
   "metadata": {},
   "outputs": [
    {
     "data": {
      "text/plain": [
       "<matplotlib.legend.Legend at 0x7fa95cdfbe50>"
      ]
     },
     "execution_count": 123,
     "metadata": {},
     "output_type": "execute_result"
    }
   ],
   "source": [
    "plt.figure('Gyro')\n",
    "plt.subplot(311)\n",
    "plt.plot(ref_imu[:,0], ref_imu[:,1], label='reference')\n",
    "plt.plot(sim_imu[:,0], sim_imu[:,1], label='sim', alpha=0.7)\n",
    "plt.title('x gyro')\n",
    "plt.xlabel('t')\n",
    "plt.ylabel('x')\n",
    "plt.legend()\n",
    "\n",
    "plt.subplot(312)\n",
    "plt.plot(ref_imu[:,0], ref_imu[:,2], label='reference')\n",
    "plt.plot(sim_imu[:,0], sim_imu[:,2], label='sim', alpha=0.7)\n",
    "plt.title('y gyro')\n",
    "plt.xlabel('t')\n",
    "plt.ylabel('y')\n",
    "plt.legend()\n",
    "\n",
    "plt.subplot(313)\n",
    "plt.plot(ref_imu[:,0], ref_imu[:,3], label='reference')\n",
    "plt.plot(sim_imu[:,0], sim_imu[:,3], label='sim', alpha=0.7)\n",
    "plt.title('z gyro')\n",
    "plt.xlabel('t')\n",
    "plt.ylabel('z')\n",
    "plt.legend()"
   ]
  },
  {
   "cell_type": "code",
   "execution_count": null,
   "metadata": {},
   "outputs": [],
   "source": []
  }
 ],
 "metadata": {
  "kernelspec": {
   "display_name": "Python 3",
   "language": "python",
   "name": "python3"
  },
  "language_info": {
   "codemirror_mode": {
    "name": "ipython",
    "version": 3
   },
   "file_extension": ".py",
   "mimetype": "text/x-python",
   "name": "python",
   "nbconvert_exporter": "python",
   "pygments_lexer": "ipython3",
   "version": "3.8.3"
  }
 },
 "nbformat": 4,
 "nbformat_minor": 4
}
